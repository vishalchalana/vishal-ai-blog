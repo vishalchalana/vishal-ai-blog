{
 "metadata": {
  "language_info": {
   "codemirror_mode": {
    "name": "ipython",
    "version": 3
   },
   "file_extension": ".py",
   "mimetype": "text/x-python",
   "name": "python",
   "nbconvert_exporter": "python",
   "pygments_lexer": "ipython3",
   "version": 3
  },
  "orig_nbformat": 2
 },
 "nbformat": 4,
 "nbformat_minor": 2,
 "cells": [
  {
   "source": [
    "\n",
    "# Chapter 2 - programing with fastai\n",
    "\n",
    "This chapter primarily covers creating an image classification model. The basic idea is:\n",
    "- search 3 types of bear images (grizzly, black, teddy) using bing search API\n",
    "- download and save these images in to folders with same names\n",
    "- now use `DataBlock` object as a *template* for creating `DataLoaders`\n",
    "- create `DataLoaders` with all the downloaded images\n",
    "- train the model using method `cnn_learner` and `fine_tune`\n",
    "- now the model can be exported out and used for prediction anywhere"
   ],
   "cell_type": "markdown",
   "metadata": {}
  }
 ]
}