{
  "nbformat": 4,
  "nbformat_minor": 0,
  "metadata": {
    "colab": {
      "name": "mnist.ipynb",
      "provenance": [],
      "collapsed_sections": [],
      "authorship_tag": "ABX9TyMxqYLVJxLaDKt3Iykvl7DM",
      "include_colab_link": true
    },
    "kernelspec": {
      "name": "python3",
      "display_name": "Python 3"
    }
  },
  "cells": [
    {
      "cell_type": "markdown",
      "metadata": {
        "id": "view-in-github",
        "colab_type": "text"
      },
      "source": [
        "<a href=\"https://colab.research.google.com/github/vishalchalana/vishal-ai-blog/blob/master/_notebooks/fastai-chapter4.ipynb\" target=\"_parent\"><img src=\"https://colab.research.google.com/assets/colab-badge.svg\" alt=\"Open In Colab\"/></a>"
      ]
    },
    {
      "cell_type": "markdown",
      "metadata": {
        "id": "92Vr917TGapD"
      },
      "source": [
        "# Chapter 4 - Understanding computer vision model internals"
      ]
    },
    {
      "cell_type": "code",
      "metadata": {
        "colab": {
          "base_uri": "https://localhost:8080/"
        },
        "id": "irif8KH4FmM1",
        "outputId": "dc9790a0-e17d-46e4-fa5d-21f877a561a2"
      },
      "source": [
        "#hide\n",
        "# !pip install -Uqq fastbook\n",
        "import fastbook\n",
        "fastbook.setup_book()"
      ],
      "execution_count": null,
      "outputs": [
        {
          "output_type": "stream",
          "text": [
            "\u001b[K     |████████████████████████████████| 727kB 11.9MB/s \n",
            "\u001b[K     |████████████████████████████████| 51kB 4.2MB/s \n",
            "\u001b[K     |████████████████████████████████| 1.2MB 29.4MB/s \n",
            "\u001b[K     |████████████████████████████████| 194kB 55.8MB/s \n",
            "\u001b[K     |████████████████████████████████| 61kB 5.6MB/s \n",
            "\u001b[?25hMounted at /content/gdrive\n"
          ],
          "name": "stdout"
        }
      ]
    },
    {
      "cell_type": "code",
      "metadata": {
        "id": "bfmTO15nF-DW"
      },
      "source": [
        "#hide\n",
        "from fastai.vision.all import *\n",
        "from fastbook import *\n",
        "\n",
        "matplotlib.rc('image', cmap='Greys')"
      ],
      "execution_count": null,
      "outputs": []
    },
    {
      "cell_type": "markdown",
      "metadata": {
        "id": "pbCjnWeEGF-p"
      },
      "source": [
        "We are going to try and understand how computer vision model works with MNIST - a collection of images of handwritten digits."
      ]
    },
    {
      "cell_type": "markdown",
      "metadata": {
        "id": "rwiYwqeqIEHt"
      },
      "source": [
        "Let's start by downloading the MNIST data (images)"
      ]
    },
    {
      "cell_type": "code",
      "metadata": {
        "colab": {
          "base_uri": "https://localhost:8080/",
          "height": 17
        },
        "id": "CqaCTaMMINjM",
        "outputId": "eed5fee9-eba0-4c4b-d795-f206affd1c3d"
      },
      "source": [
        "path = untar_data(URLs.MNIST_SAMPLE)"
      ],
      "execution_count": null,
      "outputs": [
        {
          "output_type": "display_data",
          "data": {
            "text/html": [
              ""
            ],
            "text/plain": [
              "<IPython.core.display.HTML object>"
            ]
          },
          "metadata": {
            "tags": []
          }
        }
      ]
    },
    {
      "cell_type": "code",
      "metadata": {
        "colab": {
          "base_uri": "https://localhost:8080/",
          "height": 145
        },
        "id": "7MPTglofIaiS",
        "outputId": "d7cc9e22-6f2d-4471-d908-d10f484212d1"
      },
      "source": [
        "doc(untar_data)"
      ],
      "execution_count": null,
      "outputs": [
        {
          "output_type": "display_data",
          "data": {
            "text/html": [
              "<h4 id=\"untar_data\" class=\"doc_header\"><code>untar_data</code><a href=\"https://github.com/fastai/fastai/tree/master/fastai/data/external.py#L244\" class=\"source_link\" style=\"float:right\">[source]</a></h4><blockquote><p><code>untar_data</code>(<strong><code>url</code></strong>, <strong><code>fname</code></strong>=<em><code>None</code></em>, <strong><code>dest</code></strong>=<em><code>None</code></em>, <strong><code>c_key</code></strong>=<em><code>'data'</code></em>, <strong><code>force_download</code></strong>=<em><code>False</code></em>, <strong><code>extract_func</code></strong>=<em><code>file_extract</code></em>, <strong><code>timeout</code></strong>=<em><code>4</code></em>)</p>\n",
              "</blockquote>\n",
              "<p>Download <code>url</code> to <code>fname</code> if <code>dest</code> doesn't exist, and un-tgz or unzip to folder <code>dest</code>.</p>\n",
              "<p><a href=\"https://docs.fast.ai/data.external#untar_data\" target=\"_blank\" rel=\"noreferrer noopener\">Show in docs</a></p>\n"
            ],
            "text/plain": [
              "<IPython.core.display.HTML object>"
            ]
          },
          "metadata": {
            "tags": []
          }
        }
      ]
    },
    {
      "cell_type": "code",
      "metadata": {
        "colab": {
          "base_uri": "https://localhost:8080/"
        },
        "id": "eS1RsqtrInHM",
        "outputId": "5a00c1fc-2be2-481a-b372-3f5778bb3161"
      },
      "source": [
        "Path.BASE_PATH = path\n",
        "path.ls()"
      ],
      "execution_count": null,
      "outputs": [
        {
          "output_type": "execute_result",
          "data": {
            "text/plain": [
              "(#3) [Path('labels.csv'),Path('valid'),Path('train')]"
            ]
          },
          "metadata": {
            "tags": []
          },
          "execution_count": 6
        }
      ]
    },
    {
      "cell_type": "code",
      "metadata": {
        "colab": {
          "base_uri": "https://localhost:8080/"
        },
        "id": "lyVS9wdZI8Qs",
        "outputId": "6e7f7f03-82b9-444f-f486-45b5cd2eb2b8"
      },
      "source": [
        "(path/'train').ls()"
      ],
      "execution_count": null,
      "outputs": [
        {
          "output_type": "execute_result",
          "data": {
            "text/plain": [
              "(#2) [Path('train/7'),Path('train/3')]"
            ]
          },
          "metadata": {
            "tags": []
          },
          "execution_count": 7
        }
      ]
    },
    {
      "cell_type": "code",
      "metadata": {
        "colab": {
          "base_uri": "https://localhost:8080/"
        },
        "id": "zbOmmui3JQFf",
        "outputId": "4d2bc262-c92e-4dcb-ffc6-3ae36330289a"
      },
      "source": [
        "threes = (path/'train'/'3').ls().sorted()\n",
        "sevens = (path/'train'/'7').ls().sorted()\n",
        "threes"
      ],
      "execution_count": null,
      "outputs": [
        {
          "output_type": "execute_result",
          "data": {
            "text/plain": [
              "(#6131) [Path('train/3/10.png'),Path('train/3/10000.png'),Path('train/3/10011.png'),Path('train/3/10031.png'),Path('train/3/10034.png'),Path('train/3/10042.png'),Path('train/3/10052.png'),Path('train/3/1007.png'),Path('train/3/10074.png'),Path('train/3/10091.png')...]"
            ]
          },
          "metadata": {
            "tags": []
          },
          "execution_count": 8
        }
      ]
    },
    {
      "cell_type": "code",
      "metadata": {
        "colab": {
          "base_uri": "https://localhost:8080/",
          "height": 45
        },
        "id": "WF894q5zJgkW",
        "outputId": "ebd3e06b-f483-4330-955f-f80829047519"
      },
      "source": [
        "img3_path = threes[1]\n",
        "img3 = Image.open(img3_path)\n",
        "img3"
      ],
      "execution_count": null,
      "outputs": [
        {
          "output_type": "execute_result",
          "data": {
            "image/png": "[encoded data removed]",
            "text/plain": [
              "<PIL.PngImagePlugin.PngImageFile image mode=L size=28x28 at 0x7FE4B7C553C8>"
            ]
          },
          "metadata": {
            "tags": []
          },
          "execution_count": 9
        }
      ]
    },
    {
      "cell_type": "markdown",
      "metadata": {
        "id": "llzFQ1hfKuHT"
      },
      "source": [
        "## Python arrays and vectors\n",
        "### Built-in arrays\n",
        "- Vectors are single dimension arrays. For example `x = [1, 2, 3.4, 10, 99]`\n",
        "- Access elements by index so, `x[2]` or `x[0]`\n",
        "- For last element, `x[-1]` and for second last element `x[-2]`\n",
        "- For a range of elements `x[0:2] = [1, 2]` so it does not include the last element. Can also do `x[2:]` which means, start at 2 and go upto the end\n",
        "- These can have any data type in them - so mixed is allowed\n",
        "\n",
        "### Numpy arrays\n",
        "`import numpy as np`\n",
        "\n",
        "`y = np.array([1, 2, 3.4, 10, 99])`\n",
        "\n",
        "- Numpy treats every number as floating point number\n",
        "- You can do operations like `np.mean(y)` or `np.max(y)` etc.\n",
        "- Let's try something with numpy arrays here\n",
        "\n",
        "### Numpy operations\n",
        "- If you add/subtract etc. arrays of same dimentions, element-wise operation is performed\n",
        "- If they are of different dimentions, \"broadcasting rule\" applies if they have compatible shapes"
      ]
    },
    {
      "cell_type": "code",
      "metadata": {
        "colab": {
          "base_uri": "https://localhost:8080/",
          "height": 299
        },
        "id": "xkDJidAyNc2q",
        "outputId": "d2831a25-803a-4501-e522-97a19222ea65"
      },
      "source": [
        "y = np.array([1, 2, 3.4, 10, 99])\n",
        "print(y)\n",
        "t = np.linspace(0,1,5)\n",
        "print(t)\n",
        "\n",
        "plt.plot(t, y, 'ro')\n",
        "plt.show()"
      ],
      "execution_count": null,
      "outputs": [
        {
          "output_type": "stream",
          "text": [
            "[ 1.   2.   3.4 10.  99. ]\n",
            "[0.   0.25 0.5  0.75 1.  ]\n"
          ],
          "name": "stdout"
        },
        {
          "output_type": "display_data",
          "data": {
            "image/png": "[encoded data removed]",
            "text/plain": [
              "<Figure size 432x288 with 1 Axes>"
            ]
          },
          "metadata": {
            "tags": [],
            "needs_background": "light"
          }
        }
      ]
    },
    {
      "cell_type": "code",
      "metadata": {
        "colab": {
          "base_uri": "https://localhost:8080/"
        },
        "id": "xLmMeRqRQmRG",
        "outputId": "0ea7d4b2-4ff1-400a-fd4e-834903a446a2"
      },
      "source": [
        "a = np.array([[1,2,3],\n",
        "             [4,5,6],\n",
        "             [1,2,3],\n",
        "             [4,5,6]])\n",
        "b = np.array([[1,1,1],\n",
        "             [1,1,1],\n",
        "             [1,1,1],\n",
        "             [1,1,1]])\n",
        "c = np.array([[2,2,2]])\n",
        "print(a+b)\n",
        "print(a+c)"
      ],
      "execution_count": null,
      "outputs": [
        {
          "output_type": "stream",
          "text": [
            "[[2 3 4]\n",
            " [5 6 7]\n",
            " [2 3 4]\n",
            " [5 6 7]]\n",
            "[[3 4 5]\n",
            " [6 7 8]\n",
            " [3 4 5]\n",
            " [6 7 8]]\n"
          ],
          "name": "stdout"
        }
      ]
    },
    {
      "cell_type": "code",
      "metadata": {
        "colab": {
          "base_uri": "https://localhost:8080/"
        },
        "id": "28S9s5dDR3Pa",
        "outputId": "b092dfb1-d30a-4441-ffc3-f84e433ee984"
      },
      "source": [
        "y`.shape"
      ],
      "execution_count": null,
      "outputs": [
        {
          "output_type": "execute_result",
          "data": {
            "text/plain": [
              "(5,)"
            ]
          },
          "metadata": {
            "tags": []
          },
          "execution_count": 23
        }
      ]
    },
    {
      "cell_type": "code",
      "metadata": {
        "id": "PGG0DTGbR7vl"
      },
      "source": [
        ""
      ],
      "execution_count": null,
      "outputs": []
    }
  ]
}