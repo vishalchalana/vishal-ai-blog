{
 "cells": [
  {
   "cell_type": "markdown",
   "metadata": {},
   "source": [
    "# Basics of candlestick patterns\n",
    "\n",
    "## 3 key rules with candlesticks\n",
    "\n",
    "1. Buy strength and sell weakness\n",
    "- strength = blue/green candle\n",
    "- weakness = red candle\n",
    "- buy on blue/green candle day and sell on red candle day\n",
    "\n",
    "2. Be flexible with patterns (quantity and verify)\n",
    "- actual market patters and text book definitions of the patterns may vary slightly so be flexible\n",
    "- be flexible within limits though\n",
    "\n",
    "3. Look for a prior trend\n",
    "- if you are looking at a bullish pattern, the prior trend should be bearish and other way around\n",
    "\n",
    "## The candle range\n",
    "\n",
    "- The longer the candle, the more intense is the buying or selling activity\n",
    "- If the candle is short, it can be concluded that the trading action was subdued\n",
    "\n",
    "## The Marubozu\n",
    "\n",
    "- Means \"bald\" in Japanese\n",
    "\n",
    "<img src=\"images/ta1/maru.png\"/>\n",
    "\n",
    "- No upper and lower shadows (wicks)\n",
    "- Blue/green is bullish marubozu\n",
    "- In Marubozu, 3rd key rule (prior trend) does not apply\n",
    "\n",
    "### Bullish Marubozu\n",
    "- Open = Low & Close = High\n",
    "- Too much buying interest in the stock. Market was willing to buy the stock at every price point during the day\n",
    "- Does not matter what was the prior trend. Sentiment has changed and the stock is now bullish\n",
    "- This bullishness should continue for a next few trading sessions - SO BUY!\n",
    "- *Buying price = closing price of the marubozu*\n",
    "- *Stoploss = low price*\n",
    "- Risk taker - buy stock same day as the marubozu is being formed, 10min before close\n",
    "- Risk averse - buy next day. Make sure its a bullish day\n",
    "\n",
    "### Bearish Marubozu\n",
    "- Open = High, Close = Low\n",
    "- So much selling pressure that market sold at every price point during the day\n",
    "- No prior trend matters, stock is now bearish!\n",
    "- SELL. \n",
    "- *Selling price = closing price of the Marubozu*\n",
    "- *Stoploss = high price*\n",
    "\n",
    "## The spinning top\n",
    "\n",
    "- It does not give any trading signals but it gives a lot of information about current market situation\n",
    "\n"
   ]
  }
 ],
 "metadata": {
  "kernelspec": {
   "display_name": "Python 3",
   "language": "python",
   "name": "python3"
  },
  "language_info": {
   "codemirror_mode": {
    "name": "ipython",
    "version": 3
   },
   "file_extension": ".py",
   "mimetype": "text/x-python",
   "name": "python",
   "nbconvert_exporter": "python",
   "pygments_lexer": "ipython3",
   "version": "3.8.0"
  }
 },
 "nbformat": 4,
 "nbformat_minor": 4
}